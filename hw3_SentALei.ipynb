{
 "cells": [
  {
   "cell_type": "markdown",
   "metadata": {},
   "source": [
    "\n",
    "# CIS024C - Spring 2018 - Monday 5:30-9:25pm \n",
    "\n",
    "## Homework 3\n",
    "\n",
    "Homework 3 covers exercises in String Manipulation. \n",
    "\n",
    "For a list of features supported in the string module, please refer to this URL https://docs.python.org/2/library/string.html\n",
    "\n",
    "You will need to download this notebook and use this as a starting point for your homework. You will just need to fill in the content of each code-block (cell) and execute. Once you have completed all the exercises, you will need to save and upload this to your github repository under a folder called hw3.\n",
    "\n",
    "Note also the exercises build on top of one another so you might be able to do the next exercise if you have not completed the previous exercise.\n",
    "\n",
    "Post any questions you have on our Slack at **cis-024c1.slack.com**\n",
    "\n",
    "<h3><font color='red'>\n",
    "ALL THE WORK THAT WE DID IN CLASS DURING WEEK 3 IS NOW IN GITHUB AT THE BELOW LINK\n",
    "</font></h3>\n",
    "\n",
    "https://github.com/cis024c/spring2018classwork/blob/master/week3/week3.ipynb\n",
    "\n",
    "** Slides ** for Week 3 can be found at https://docs.google.com/presentation/d/16z1-Ln71MiXMRfgnZJB60mnXWnwCiUn0gHURe9KMMWg/edit?usp=sharing\n",
    "\n",
    "\n",
    "**Please refer back to hw1 and slack for instructions on how to setup your computer for developing using Python.**"
   ]
  },
  {
   "cell_type": "markdown",
   "metadata": {},
   "source": [
    "### Helpful Jupyter Commands\n",
    "\n",
    "Below are some useful commands to know when using Jupyter\n",
    "\n",
    "1. You can add a new cell by clicking on the \"+\" icon on top.\n",
    "2. You can delete a cell by selecting that cell and clicking on the \"scissors\" icon on top.\n",
    "3. You can execute a cell by either pressing shift+enter or selecting the \"play\" button on top.\n",
    "4. You can create a new file in Jupyter via the File menu->New Notebook option. Make sure to select Python 2 when creating your notebook.\n",
    "5. Also, for your code blocks make sure that Code is selected instead of another option like Markdown.\n",
    "6. Use the Enter key to go to the next line in a cell to enter the next statement.\n",
    "7. You can clear results by clicking on the Cell menu item and selecting Current Output->Clear or All Output->Clear depending on whether you are trying to just clear the output for one cell or for all cells.\n",
    "8. In case your program has crashed for some reason (infinite loop, for example), you can restart your Python session by select Kernel in the menu and selecting Restart.\n"
   ]
  },
  {
   "cell_type": "markdown",
   "metadata": {},
   "source": [
    "#### Check Python Version"
   ]
  },
  {
   "cell_type": "code",
   "execution_count": 1,
   "metadata": {},
   "outputs": [
    {
     "name": "stderr",
     "output_type": "stream",
     "text": [
      "Python 2.7.14 :: Anaconda, Inc.\n"
     ]
    }
   ],
   "source": [
    "!python --version"
   ]
  },
  {
   "cell_type": "markdown",
   "metadata": {},
   "source": [
    "#### Sample Exercises with conditionals and repetition\n",
    "\n",
    "Refer to Week 2 classwork 2 for sample exercises - https://github.com/cis024c/spring2018classwork/blob/master/week3/week3.ipynb"
   ]
  },
  {
   "cell_type": "markdown",
   "metadata": {},
   "source": [
    "#### Exercise 1 -  Using logical operators - and, or and not\n",
    "\n",
    "Get the ages of three persons Harry, Sally and Mary from the user. Check the below conditions and display the results\n",
    "\n",
    "1. If Harry and Sally are both less than 20 years old, display the message saying \"Harry and Sally are less than 20 years old\"\n",
    "2. If either Sally or Mary is older than 30, then display the message saying \"Either Sally or Mary is older than 30\"\n",
    "\n",
    "Remember that to do this you will need to use different variables to store the respective ages and then evaluate those ages using the if statement and logical operators."
   ]
  },
  {
   "cell_type": "code",
   "execution_count": 1,
   "metadata": {},
   "outputs": [
    {
     "name": "stdout",
     "output_type": "stream",
     "text": [
      "Please enter Harry's Age: 18\n",
      "Please enter Sally's Age: 19\n",
      "Please enter Mary's Age: 35\n",
      "Harry and Sally are less than 20 years old\n",
      "Either Sally or Mary is older than 30\n"
     ]
    }
   ],
   "source": [
    "### YOUR CODE GOES \n",
    "HarryAge = int(raw_input(\"Please enter Harry's Age: \"))\n",
    "SallyAge = int(raw_input(\"Please enter Sally's Age: \"))\n",
    "MaryAge = int(raw_input(\"Please enter Mary's Age: \"))\n",
    "\n",
    "if HarryAge < 20 and SallyAge < 20:\n",
    "    print \"Harry and Sally are less than 20 years old\"\n",
    "\n",
    "if SallyAge > 30 or MaryAge > 30:\n",
    "    print \"Either Sally or Mary is older than 30\""
   ]
  },
  {
   "cell_type": "markdown",
   "metadata": {},
   "source": [
    "#### Exercise 2 - Find the length of a given string\n",
    "\n",
    "Ask the user to enter their first name. Compute the number of characters in the first name and print the result. \n",
    "\n",
    "Note that you will need to use the ** len ** function to obtain the number of characters in the string."
   ]
  },
  {
   "cell_type": "code",
   "execution_count": 25,
   "metadata": {},
   "outputs": [
    {
     "name": "stdout",
     "output_type": "stream",
     "text": [
      "Please enter your first name: Amanda\n",
      "The length of your name is 6 characters long\n"
     ]
    }
   ],
   "source": [
    "### YOUR CODE GOES BELOW\n",
    "Name = raw_input(\"Please enter your first name: \")\n",
    "\n",
    "print \"The length of your name is\",len(Name), \"characters long\"\n",
    "\n",
    "### END CODE"
   ]
  },
  {
   "cell_type": "markdown",
   "metadata": {},
   "source": [
    "#### Exercise 3 - Reversing a String\n",
    "\n",
    "Ask the user to enter the name of their favorite movie. Reverse the name of the movie and print it out."
   ]
  },
  {
   "cell_type": "code",
   "execution_count": 1,
   "metadata": {},
   "outputs": [
    {
     "name": "stdout",
     "output_type": "stream",
     "text": [
      "Please enter the name of your favorite movie: Lord of the Rings\n",
      "sgniR eht fo droL\n"
     ]
    }
   ],
   "source": [
    "### YOUR CODE GOES BELOW\n",
    "Movie = raw_input(\"Please enter the name of your favorite movie: \")\n",
    "\n",
    "print Movie[::-1]\n",
    "\n",
    "### END CODE"
   ]
  },
  {
   "cell_type": "markdown",
   "metadata": {},
   "source": [
    "#### Exercise 4 - Converting an input string to lower case and looking for a match\n",
    "\n",
    "Ask the user to enter a **line of text** and a **search string**. Convert the line of text that the user entered to lower case. Search the resulting text for the search string. Print \"Search String Found\" if the search string was found, otherwise, print \"Search String not found\"\n",
    "\n",
    "For example, the user could enter \"Jack and Jill went up the Hill\" and the search string \"jill\". You first need to convert the input string to lower case like so - \"jack and jill went up the hill\". \n",
    "\n",
    "Next you will need to look for the search string in the input string. You can use the \"if searchString in text\" form of query to determine if the text contains the search string. See week 3 classowork for an example"
   ]
  },
  {
   "cell_type": "code",
   "execution_count": 3,
   "metadata": {},
   "outputs": [
    {
     "name": "stdout",
     "output_type": "stream",
     "text": [
      "Please enter a line of text: Jack and Jill went up the hill\n",
      "Please enter string that you want to search for in your text: jill\n",
      "Search String 'jill' found!\n"
     ]
    }
   ],
   "source": [
    "### YOUR CODE GOES BELOW\n",
    "import string\n",
    "\n",
    "linetext = raw_input(\"Please enter a line of text: \")\n",
    "searchstring = raw_input(\"Please enter string that you want to search for in your text: \")\n",
    "\n",
    "lowertext = string.lower(linetext)\n",
    "\n",
    "if string.find(lowertext, searchstring) > 0:\n",
    "    print \"Search String '\" + searchstring + \"' found!\"\n",
    "else:\n",
    "    print \"Search String '\" + searchstring + \"' not found!\"\n",
    "\n",
    "### END CODE"
   ]
  },
  {
   "cell_type": "markdown",
   "metadata": {},
   "source": [
    "#### Exercise 5 - Parsing a comma separated set of values\n",
    "\n",
    "Ask the user to type in a grocery list. Ensure that each item in the grocery list is separated by a comma. Use the **split** command to extract each token (item) in the grocery list. Print the last item in the list.\n",
    "\n",
    "For example, if the user enters \"milk,bananas,sugar,eggs,cheese\", you will need to read this into a variable, parse the contents using the **split** command and print \"cheese\""
   ]
  },
  {
   "cell_type": "code",
   "execution_count": 3,
   "metadata": {},
   "outputs": [
    {
     "name": "stdout",
     "output_type": "stream",
     "text": [
      "Please type in your grocery list separated by commas: apples,bananas,carrots\n",
      "You have 3 items on your list.\n",
      "The last item on your list is: carrots\n"
     ]
    }
   ],
   "source": [
    "### YOUR CODE GOES BELOW\n",
    "grocery = raw_input(\"Please type in your grocery list separated by commas: \")\n",
    "\n",
    "words = grocery.split(',')\n",
    "\n",
    "print \"You have\", len(words), \"items on your list.\"\n",
    "\n",
    "print \"The last item on your list is:\",words[-1]\n",
    "\n",
    "### END CODE str.rsplit([sep[, maxsplit]])"
   ]
  },
  {
   "cell_type": "markdown",
   "metadata": {},
   "source": [
    "## OPTIONAL EXERCISES\n",
    "\n",
    "Below is a set of optional exercises. These will not be graded but the solutions will be posted. I would strongly encourage you to try these out if you are done with the mandatory homework exercises to improve your understanding of python."
   ]
  },
  {
   "cell_type": "markdown",
   "metadata": {},
   "source": [
    "#### Exercise 6\n",
    "\n",
    "Ask the user to type in a grocery list and a search item. Ensure that each item in the grocery list is separated by a comma and an arbitrary number of spaces. Use the **split** command to search for the search item in this list. \n",
    "\n",
    "For example, let us say that the user enters \"\"milk ,  bananas,  sugar,  eggs,  cheese  \" (notice the arbitrary spaces between items) and the search term is \"eggs\". You will need to look for \"eggs\" in the grocery list and if found, print the message \"Item found\", otherwise, print \"Item not found\""
   ]
  },
  {
   "cell_type": "code",
   "execution_count": 54,
   "metadata": {},
   "outputs": [
    {
     "name": "stdout",
     "output_type": "stream",
     "text": [
      "Please type in your grocery list separated by commas with random spaces: milk , bananas, sugar, EGGS, cheese\n",
      "Please enter a search item you want to search for in your grocery list: eggs\n",
      "'eggs' item found!\n"
     ]
    }
   ],
   "source": [
    "### 1ST SOLUTION FOR EXERCISE 6\n",
    "### THIS SOLUTION USES THE SPLIT THEN SEARCHES LIST\n",
    "\n",
    "import string\n",
    "grocery1 = raw_input(\"Please type in your grocery list separated by commas with random spaces: \")\n",
    "\n",
    "searchstring1 = raw_input(\"Please enter a search item you want to search for in your grocery list: \")\n",
    "\n",
    "trimmed1 = string.lower(grocery1.replace(\" \",\"\"))\n",
    "lowersearch1 = string.lower(searchstring1)\n",
    "\n",
    "\n",
    "splittrimmed = trimmed1.split(',')\n",
    "\n",
    "count = 0\n",
    "for word1 in splittrimmed:\n",
    "    if lowersearch1 in word1:\n",
    "        count = count +1\n",
    "        \n",
    "if count >= 1:\n",
    "    print \"'\"+lowersearch1+\"'\"+\" item found!\"\n",
    "else:\n",
    "    print \"'\"+lowersearch1+\"'\"+\" item not found!\""
   ]
  },
  {
   "cell_type": "code",
   "execution_count": 55,
   "metadata": {},
   "outputs": [
    {
     "name": "stdout",
     "output_type": "stream",
     "text": [
      "Please type in your grocery list separated by commas with random spaces: milk , bananas, sugar, EGGS, cheese\n",
      "Please enter a search item you want to search for in your grocery list: BANANAS\n",
      "'bananas' item found!\n"
     ]
    }
   ],
   "source": [
    "### 2ND SOLUTION FOR EXERCISE 6\n",
    "### THIS PROGRAM USES THE STRING.FIND FUNCTION\n",
    "\n",
    "import string\n",
    "\n",
    "grocery2 = raw_input(\"Please type in your grocery list separated by commas with random spaces: \")\n",
    "\n",
    "searchstring2 = raw_input(\"Please enter a search item you want to search for in your grocery list: \")\n",
    "\n",
    "trimmed = string.lower(grocery2.replace(\" \",\"\"))\n",
    "lowersearch = string.lower(searchstring2)\n",
    "\n",
    "if string.find(trimmed, lowersearch) > 0:\n",
    "    print \"'\"+lowersearch+\"'\"+\" item found!\"\n",
    "else:\n",
    "    print \"'\"+lowersearch+\"'\"+\" item not found!\"\n",
    "\n",
    "### END CODE"
   ]
  },
  {
   "cell_type": "markdown",
   "metadata": {},
   "source": [
    "#### Exercise 7\n",
    "\n",
    "Write a python program that takes in a list of words from the user and prints the shortest word in the list. If two words are equal short, just pick the first one that you see.\n"
   ]
  },
  {
   "cell_type": "code",
   "execution_count": 34,
   "metadata": {},
   "outputs": [
    {
     "name": "stdout",
     "output_type": "stream",
     "text": [
      "Please type in a list of words separated by commas with random spaces: Amanda, Tod,   Betty, Eve,   Dorothy\n",
      "The shortest word is: Tod\n"
     ]
    }
   ],
   "source": [
    "### YOUR CODE GOES BELOW\n",
    "\n",
    "import string\n",
    "\n",
    "wordlist = raw_input(\"Please type in a list of words separated by commas with random spaces: \")\n",
    "\n",
    "wordreplaced = wordlist.replace(\" \",\"\")\n",
    "\n",
    "splitlist = wordreplaced.split(',')\n",
    "\n",
    "print \"The shortest word is: \" + min(splitlist, key=len)\n",
    "\n",
    "### END CODE"
   ]
  },
  {
   "cell_type": "markdown",
   "metadata": {},
   "source": [
    "#### Exercise 8\n",
    "\n",
    "Accept a line of text from the user with some repeating words. Ask the user to enter a search term (one of the repeating words). Count the number of times the search term repeats in the text.\n",
    "\n",
    "For example, if the sentence is - \"She sells sea shells on the sea shore\" and the search term is \"sea\", then the program should print the result 2, indicating that two occurrences of the word \"sea\" were found in the text\n"
   ]
  },
  {
   "cell_type": "code",
   "execution_count": 44,
   "metadata": {},
   "outputs": [
    {
     "name": "stdout",
     "output_type": "stream",
     "text": [
      "Please type in a sentence with repeating words: She sells sea shells on the sea SEA SEA shore\n",
      "Please enter a repeating word within your sentence: sea\n",
      "Your search word: sea , occurs 4 times!\n"
     ]
    }
   ],
   "source": [
    "### YOUR CODE GOES BELOW\n",
    "\n",
    "import string\n",
    "\n",
    "sentence = raw_input(\"Please type in a sentence with repeating words: \")\n",
    "\n",
    "wordsearch = raw_input(\"Please enter a repeating word within your sentence: \")\n",
    "\n",
    "sentence1 = string.lower(sentence)\n",
    "lowersearch = string.lower(wordsearch)\n",
    "\n",
    "sentsplit = sentence1.split()\n",
    "\n",
    "count = 0\n",
    "for word1 in sentsplit:\n",
    "    if lowersearch == word1:\n",
    "        count = count +1\n",
    "        \n",
    "print \"Your search word:\", lowersearch, \", occurs\", count,\"times!\"\n",
    "\n",
    "### END CODE"
   ]
  },
  {
   "cell_type": "markdown",
   "metadata": {},
   "source": [
    "#### Exercise 9\n",
    "\n",
    "Write a python program to get text from the user. Create a new text from the original text with the word \" stranger \" inserted in the middle of the text. Print the resulting new text."
   ]
  },
  {
   "cell_type": "code",
   "execution_count": 48,
   "metadata": {},
   "outputs": [
    {
     "name": "stdout",
     "output_type": "stream",
     "text": [
      "Please type in a sentence: This is my life in Python class.\n",
      "This is my life stranger in Python class.\n"
     ]
    }
   ],
   "source": [
    "### YOUR CODE GOES BELOW\n",
    "\n",
    "import string\n",
    "\n",
    "longtext = raw_input(\"Please type in a sentence: \")\n",
    "\n",
    "textlength = len(longtext)\n",
    "\n",
    "mid_text = textlength/2\n",
    "\n",
    "print longtext[0:mid_text] +\"stranger \" + longtext[mid_text:textlength]\n",
    "\n",
    "\n",
    "### END CODE"
   ]
  },
  {
   "cell_type": "markdown",
   "metadata": {},
   "source": [
    "#### Exercise 10\n",
    "\n",
    "Write a python program to get a line of text from the user. Sort each word in the text alphabetically and print it out. \n",
    "\n",
    "For example, if the user enters \"Jack and Jill went up the hill\", the result should be \"and Jack Jill hill the up went\"\n"
   ]
  },
  {
   "cell_type": "code",
   "execution_count": 53,
   "metadata": {},
   "outputs": [
    {
     "name": "stdout",
     "output_type": "stream",
     "text": [
      "Please type in a sentence: Jack and Jill went up the hill\n",
      "Here are the words within the sentence in alphabetical order: and hill Jack Jill the up went\n"
     ]
    }
   ],
   "source": [
    "### YOUR CODE GOES BELOW\n",
    "\n",
    "import string\n",
    "\n",
    "phrase = raw_input(\"Please type in a sentence: \")\n",
    "\n",
    "splitphrase = phrase.split()\n",
    "\n",
    "alpha_phrase = sorted(splitphrase, key=str.lower)\n",
    "\n",
    "s = \" \"\n",
    "\n",
    "print \"Here are the words within the sentence in alphabetical order:\", s.join(alpha_phrase)\n",
    "\n",
    "\n",
    "### END CODE"
   ]
  }
 ],
 "metadata": {
  "kernelspec": {
   "display_name": "Python 2",
   "language": "python",
   "name": "python2"
  },
  "language_info": {
   "codemirror_mode": {
    "name": "ipython",
    "version": 2
   },
   "file_extension": ".py",
   "mimetype": "text/x-python",
   "name": "python",
   "nbconvert_exporter": "python",
   "pygments_lexer": "ipython2",
   "version": "2.7.14"
  }
 },
 "nbformat": 4,
 "nbformat_minor": 2
}
